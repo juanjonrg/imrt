{
 "cells": [
  {
   "cell_type": "code",
   "execution_count": null,
   "metadata": {},
   "outputs": [],
   "source": [
    "import pydicom\n",
    "import matplotlib.pyplot as plt\n",
    "import numpy as np\n",
    "\n",
    "def print_stats(rois, rd):\n",
    "    header = \"{:^16} {:^9} {:^9} {:^9}\".format('Region', 'Min', 'Avg', 'Max')\n",
    "    print('-'*len(header))\n",
    "    print(header)\n",
    "    print('-'*len(header))\n",
    "    for seq in rd.DVHSequence:\n",
    "        name = rois[seq.DVHReferencedROISequence[0].ReferencedROINumber]\n",
    "        print(\"{:<16} {:>9.4f} {:>9.4f} {:>9.4f}\".format(name, seq.DVHMinimumDose, seq.DVHMeanDose, seq.DVHMaximumDose))\n",
    "\n",
    "def plot_dvh(rois, rd):\n",
    "    plt.style.use(\"default\")\n",
    "    plt.rcParams['figure.figsize'] = [12, 8]\n",
    "    plt.rcParams['font.size'] = 18\n",
    "\n",
    "    for seq in rd.DVHSequence:\n",
    "        data = seq.DVHData[1::2]\n",
    "        rel_data = data\n",
    "        if seq.DVHVolumeUnits == 'CM3':\n",
    "            rel_data = [x*100/data[0] for x in data]\n",
    "        label = rois[seq.DVHReferencedROISequence[0].ReferencedROINumber]\n",
    "        plt.plot(np.arange(0, len(rel_data))/100, rel_data, linewidth=3, label=label)\n",
    "\n",
    "    plt.legend(loc='upper right')\n",
    "    plt.grid()\n",
    "    plt.ylabel(\"Volume (%)\")\n",
    "    plt.xlabel(\"Dose (Gy)\")\n",
    "    plt.xticks(np.arange(0,105,5))\n",
    "    plt.xlim((-5, 105))\n",
    "    plt.yticks(np.arange(0,105,10))\n",
    "    plt.tight_layout()\n",
    "    plt.show()"
   ]
  },
  {
   "cell_type": "code",
   "execution_count": null,
   "metadata": {},
   "outputs": [],
   "source": [
    "rs_filename = '../DICOM/16/RS.1.2.246.352.205.5438954218386416801.8699273283688404648.dcm'\n",
    "rd_filename = '../DICOM/16/plan_eud_20210409/RD.1.2.246.352.221.52316248413044920758968839694241191817.dcm'\n",
    "\n",
    "rs = pydicom.dcmread(rs_filename)\n",
    "rd = pydicom.dcmread(rd_filename)\n",
    "\n",
    "rois = {}\n",
    "for seq in rs.RTROIObservationsSequence:\n",
    "    rois[seq.ReferencedROINumber] = seq.ROIObservationLabel\n",
    "\n",
    "print_stats(rois, rd)\n",
    "plot_dvh(rois, rd)"
   ]
  },
  {
   "cell_type": "code",
   "execution_count": null,
   "metadata": {},
   "outputs": [],
   "source": []
  }
 ],
 "metadata": {
  "kernelspec": {
   "display_name": "Python 3",
   "language": "python",
   "name": "python3"
  },
  "language_info": {
   "codemirror_mode": {
    "name": "ipython",
    "version": 3
   },
   "file_extension": ".py",
   "mimetype": "text/x-python",
   "name": "python",
   "nbconvert_exporter": "python",
   "pygments_lexer": "ipython3",
   "version": "3.8.6"
  }
 },
 "nbformat": 4,
 "nbformat_minor": 4
}
